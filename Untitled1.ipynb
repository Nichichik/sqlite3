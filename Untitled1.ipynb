{
 "cells": [
  {
   "cell_type": "markdown",
   "id": "187bbf2b-c4b9-48e3-a227-4f151e649396",
   "metadata": {},
   "source": [
    "page_url='add-user/'\n",
    "params={\n",
    "    'firstname': 'VV',\n",
    "    'lastname':'p',\n",
    "    'phone-number':'+7(9000000000)',\n",
    "    'age': '100'\n",
    "}"
   ]
  },
  {
   "cell_type": "code",
   "execution_count": null,
   "id": "e329e050-aea5-4a96-ba4c-cdf93694610a",
   "metadata": {},
   "outputs": [],
   "source": [
    "from typing import Optional\n",
    "from fastapi import FastAPI\n",
    "import pandas as pd\n",
    "import json\n",
    "\n",
    "\"\"\"\n",
    "class ModelName(str, Enum):\n",
    "    alexnet = \"alexnet\"\n",
    "    resnet = \"resnet\"\n",
    "    lenet = \"lenet\"\n",
    "\"\"\"\n",
    "app = FastAPI()\n",
    "@app.get(\"/\")\n",
    "async def root():\n",
    "    return \"Phonebook\"\n",
    "\n",
    "@app.post(\"/add-user\")\n",
    "async def add_user(firstname: str, lastname: str, phone_number: str, age: Optional[int] = None):\n",
    "    #Считываем/создаём телефонный справочник\n",
    "    try:\n",
    "        df_phonebook = pd.read_csv('db.csv')\n",
    "    except:\n",
    "        df_phonebook = pd.DataFrame(columns=['Firstname', 'Lastname', 'Phone number', 'Age'])#создание \"колонок\"\n",
    "        df_phonebook['Phone number'] = df_phonebook['Phone number'].astype(str)\n",
    "\n",
    "    user_dict = {}\n",
    "    user_dict['Firstname'] = firstname\n",
    "    user_dict['Lastname'] = lastname\n",
    "    user_dict['Phone number'] = phone_number\n",
    "\n",
    "    print(f'Firstname: {firstname}')\n",
    "    print(f'Lastname : {lastname}')\n",
    "    print(f'Phone number: {phone_number}')\n",
    "    if age:\n",
    "        print(f'Age:{age}')\n",
    "        user_dict['Age'] = age\n",
    "    else:\n",
    "        user_dict['Age'] = 'None'\n",
    "\n",
    "    print(user_dict)\n",
    "    df_temp = pd.DataFrame([user_dict])\n",
    "    print(df_phonebook)\n",
    "    print(df_temp)\n",
    "    df_phonebook = pd.concat([df_phonebook, df_temp])\n",
    "    df_phonebook.to_csv('db.csv')\n",
    "    return 'user is added'\n",
    "\n",
    "\n",
    "\n",
    "\n",
    "\n",
    "\n",
    "@app.get(\"/get-user\")\n",
    "async def get_user(lastname: str):\n",
    "    try:\n",
    "        df_phonebook = pd.read_csv('db.csv')\n",
    "    except:\n",
    "        df_phonebook = pd.DataFrame(columns=['Firstname', 'Lastname', 'Phone number', 'Age'])  # создание \"колонок\"\n",
    "        df_phonebook['Phone number'] = df_phonebook['Phone number'].astype(str)\n",
    "    df_temp = df_phonebook[df_phonebook['Lastname'] == lastname]\n",
    "    if df_temp.empty:\n",
    "        return 'There is no such user'\n",
    "    print(dict(df_temp.iloc[0]))\n",
    "    return json.dumps(dict({'Phone number': df_temp.iloc[0]['Phone number']}))"
   ]
  },
  {
   "cell_type": "code",
   "execution_count": 19,
   "id": "6ab1ba0f-26da-4664-a6f3-bbea236c9a16",
   "metadata": {},
   "outputs": [],
   "source": [
    "page_url='add-user/'"
   ]
  },
  {
   "cell_type": "code",
   "execution_count": 20,
   "id": "6ec81f9d-07fd-46ea-9fe6-f391f86933a4",
   "metadata": {},
   "outputs": [],
   "source": [
    "params={\n",
    "    'firstname': 'VV',\n",
    "    'lastname':'p',\n",
    "    'phone-number':'+7(9000000000)',\n",
    "    'age': '100'\n",
    "}"
   ]
  },
  {
   "cell_type": "code",
   "execution_count": 21,
   "id": "ac3097d1-6a5a-40ab-bcdd-a4e9c427a8f1",
   "metadata": {},
   "outputs": [
    {
     "ename": "NameError",
     "evalue": "name 'requests' is not defined",
     "output_type": "error",
     "traceback": [
      "\u001b[1;31m---------------------------------------------------------------------------\u001b[0m",
      "\u001b[1;31mNameError\u001b[0m                                 Traceback (most recent call last)",
      "Cell \u001b[1;32mIn[21], line 1\u001b[0m\n\u001b[1;32m----> 1\u001b[0m response \u001b[38;5;241m=\u001b[39m \u001b[43mrequests\u001b[49m\u001b[38;5;241m.\u001b[39mpost(\n\u001b[0;32m      2\u001b[0m     os\u001b[38;5;241m.\u001b[39mpath\u001b[38;5;241m.\u001b[39mjoin(SERVER_URL, page_url),\n\u001b[0;32m      3\u001b[0m     params\u001b[38;5;241m=\u001b[39mparams\n\u001b[0;32m      4\u001b[0m )\n\u001b[0;32m      5\u001b[0m responce\u001b[38;5;241m.\u001b[39mstatus_code\n",
      "\u001b[1;31mNameError\u001b[0m: name 'requests' is not defined"
     ]
    }
   ],
   "source": [
    "response = requests.post(\n",
    "    os.path.join(SERVER_URL, page_url),\n",
    "    params=params\n",
    ")\n",
    "responce.status_code"
   ]
  },
  {
   "cell_type": "code",
   "execution_count": null,
   "id": "84c05c7b-bc0a-41ff-9b73-2649d7c523c0",
   "metadata": {},
   "outputs": [],
   "source": []
  },
  {
   "cell_type": "code",
   "execution_count": null,
   "id": "64f66fba-8cd2-4cae-bf3c-be4d9ef4fe8f",
   "metadata": {},
   "outputs": [],
   "source": []
  }
 ],
 "metadata": {
  "kernelspec": {
   "display_name": "Python 3 (ipykernel)",
   "language": "python",
   "name": "python3"
  },
  "language_info": {
   "codemirror_mode": {
    "name": "ipython",
    "version": 3
   },
   "file_extension": ".py",
   "mimetype": "text/x-python",
   "name": "python",
   "nbconvert_exporter": "python",
   "pygments_lexer": "ipython3",
   "version": "3.11.4"
  }
 },
 "nbformat": 4,
 "nbformat_minor": 5
}
